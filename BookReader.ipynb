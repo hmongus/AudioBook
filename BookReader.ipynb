{
 "cells": [
  {
   "cell_type": "code",
   "execution_count": 1,
   "id": "c53a279c",
   "metadata": {},
   "outputs": [
    {
     "name": "stdout",
     "output_type": "stream",
     "text": [
      "Collecting pyttsx3Note: you may need to restart the kernel to use updated packages.\n"
     ]
    },
    {
     "name": "stderr",
     "output_type": "stream",
     "text": [
      "WARNING: You are using pip version 22.0.4; however, version 25.2 is available.\n",
      "You should consider upgrading via the 'c:\\Users\\Usuario\\AppData\\Local\\Programs\\Python\\Python310\\python.exe -m pip install --upgrade pip' command.\n"
     ]
    },
    {
     "name": "stdout",
     "output_type": "stream",
     "text": [
      "\n",
      "  Downloading pyttsx3-2.99-py3-none-any.whl (32 kB)\n",
      "Requirement already satisfied: pywin32 in c:\\users\\usuario\\appdata\\roaming\\python\\python310\\site-packages (from pyttsx3) (310)\n",
      "Collecting comtypes\n",
      "  Downloading comtypes-1.4.11-py3-none-any.whl (246 kB)\n",
      "     ------------------------------------- 246.4/246.4 KB 15.7 MB/s eta 0:00:00\n",
      "Collecting pypiwin32\n",
      "  Downloading pypiwin32-223-py3-none-any.whl (1.7 kB)\n",
      "Installing collected packages: pypiwin32, comtypes, pyttsx3\n",
      "Successfully installed comtypes-1.4.11 pypiwin32-223 pyttsx3-2.99\n",
      "Collecting PyPDF2Note: you may need to restart the kernel to use updated packages.\n"
     ]
    },
    {
     "name": "stderr",
     "output_type": "stream",
     "text": [
      "WARNING: You are using pip version 22.0.4; however, version 25.2 is available.\n",
      "You should consider upgrading via the 'c:\\Users\\Usuario\\AppData\\Local\\Programs\\Python\\Python310\\python.exe -m pip install --upgrade pip' command.\n"
     ]
    },
    {
     "name": "stdout",
     "output_type": "stream",
     "text": [
      "\n",
      "  Downloading pypdf2-3.0.1-py3-none-any.whl (232 kB)\n",
      "     -------------------------------------- 232.6/232.6 KB 7.2 MB/s eta 0:00:00\n",
      "Installing collected packages: PyPDF2\n",
      "Successfully installed PyPDF2-3.0.1\n"
     ]
    }
   ],
   "source": [
    "%pip install pyttsx3 \n",
    "%pip install PyPDF2"
   ]
  },
  {
   "cell_type": "code",
   "execution_count": 3,
   "id": "3c02e320",
   "metadata": {},
   "outputs": [],
   "source": [
    "import tkinter as tk\n",
    "from tkinter import filedialog\n",
    "from PyPDF2 import PdfReader\n",
    "import pyttsx3"
   ]
  },
  {
   "cell_type": "code",
   "execution_count": 6,
   "id": "64d33957",
   "metadata": {},
   "outputs": [
    {
     "ename": "KeyboardInterrupt",
     "evalue": "",
     "output_type": "error",
     "traceback": [
      "\u001b[1;31m---------------------------------------------------------------------------\u001b[0m",
      "\u001b[1;31mKeyboardInterrupt\u001b[0m                         Traceback (most recent call last)",
      "Cell \u001b[1;32mIn[6], line 38\u001b[0m\n\u001b[0;32m     36\u001b[0m readyReader \u001b[38;5;241m=\u001b[39m pyttsx3\u001b[38;5;241m.\u001b[39minit()\n\u001b[0;32m     37\u001b[0m readyReader\u001b[38;5;241m.\u001b[39msay(text)\n\u001b[1;32m---> 38\u001b[0m \u001b[43mreadyReader\u001b[49m\u001b[38;5;241;43m.\u001b[39;49m\u001b[43mrunAndWait\u001b[49m\u001b[43m(\u001b[49m\u001b[43m)\u001b[49m\n",
      "File \u001b[1;32mc:\\Users\\Usuario\\AppData\\Local\\Programs\\Python\\Python310\\lib\\site-packages\\pyttsx3\\engine.py:222\u001b[0m, in \u001b[0;36mEngine.runAndWait\u001b[1;34m(self)\u001b[0m\n\u001b[0;32m    220\u001b[0m \u001b[38;5;28mself\u001b[39m\u001b[38;5;241m.\u001b[39m_inLoop \u001b[38;5;241m=\u001b[39m \u001b[38;5;28;01mTrue\u001b[39;00m\n\u001b[0;32m    221\u001b[0m \u001b[38;5;28mself\u001b[39m\u001b[38;5;241m.\u001b[39m_driverLoop \u001b[38;5;241m=\u001b[39m \u001b[38;5;28;01mTrue\u001b[39;00m\n\u001b[1;32m--> 222\u001b[0m \u001b[38;5;28;43mself\u001b[39;49m\u001b[38;5;241;43m.\u001b[39;49m\u001b[43mproxy\u001b[49m\u001b[38;5;241;43m.\u001b[39;49m\u001b[43mrunAndWait\u001b[49m\u001b[43m(\u001b[49m\u001b[43m)\u001b[49m\n\u001b[0;32m    223\u001b[0m \u001b[38;5;28mself\u001b[39m\u001b[38;5;241m.\u001b[39m_inLoop \u001b[38;5;241m=\u001b[39m \u001b[38;5;28;01mFalse\u001b[39;00m\n\u001b[0;32m    224\u001b[0m \u001b[38;5;28mself\u001b[39m\u001b[38;5;241m.\u001b[39mproxy\u001b[38;5;241m.\u001b[39msetBusy(\u001b[38;5;28;01mFalse\u001b[39;00m)\n",
      "File \u001b[1;32mc:\\Users\\Usuario\\AppData\\Local\\Programs\\Python\\Python310\\lib\\site-packages\\pyttsx3\\driver.py:184\u001b[0m, in \u001b[0;36mDriverProxy.runAndWait\u001b[1;34m(self)\u001b[0m\n\u001b[0;32m    179\u001b[0m \u001b[38;5;250m\u001b[39m\u001b[38;5;124;03m\"\"\"\u001b[39;00m\n\u001b[0;32m    180\u001b[0m \u001b[38;5;124;03mCalled by the engine to start an event loop, process all commands in\u001b[39;00m\n\u001b[0;32m    181\u001b[0m \u001b[38;5;124;03mthe queue at the start of the loop, and then exit the loop.\u001b[39;00m\n\u001b[0;32m    182\u001b[0m \u001b[38;5;124;03m\"\"\"\u001b[39;00m\n\u001b[0;32m    183\u001b[0m \u001b[38;5;28mself\u001b[39m\u001b[38;5;241m.\u001b[39m_push(\u001b[38;5;28mself\u001b[39m\u001b[38;5;241m.\u001b[39m_engine\u001b[38;5;241m.\u001b[39mendLoop, ())\n\u001b[1;32m--> 184\u001b[0m \u001b[38;5;28;43mself\u001b[39;49m\u001b[38;5;241;43m.\u001b[39;49m\u001b[43m_driver\u001b[49m\u001b[38;5;241;43m.\u001b[39;49m\u001b[43mstartLoop\u001b[49m\u001b[43m(\u001b[49m\u001b[43m)\u001b[49m\n",
      "File \u001b[1;32mc:\\Users\\Usuario\\AppData\\Local\\Programs\\Python\\Python310\\lib\\site-packages\\pyttsx3\\drivers\\sapi5.py:179\u001b[0m, in \u001b[0;36mSAPI5Driver.startLoop\u001b[1;34m(self)\u001b[0m\n\u001b[0;32m    177\u001b[0m     first \u001b[38;5;241m=\u001b[39m \u001b[38;5;28;01mFalse\u001b[39;00m\n\u001b[0;32m    178\u001b[0m pythoncom\u001b[38;5;241m.\u001b[39mPumpWaitingMessages()\n\u001b[1;32m--> 179\u001b[0m \u001b[43mtime\u001b[49m\u001b[38;5;241;43m.\u001b[39;49m\u001b[43msleep\u001b[49m\u001b[43m(\u001b[49m\u001b[38;5;241;43m0.05\u001b[39;49m\u001b[43m)\u001b[49m\n",
      "\u001b[1;31mKeyboardInterrupt\u001b[0m: "
     ]
    }
   ],
   "source": [
    "#Ask user for PDF file\n",
    "root = tk.Tk()\n",
    "root.withdraw()\n",
    "file_path = filedialog.askopenfilename(\n",
    "    title = \"Select a PDF file\",\n",
    "    filetypes=[(\"PDF Files\", \"*.pdf\")]\n",
    ")\n",
    "\n",
    "if not file_path:\n",
    "    print(\"No file selecte. Damnnn...\")\n",
    "    exit()\n",
    "\n",
    "#Now we read the pdf\n",
    "try:\n",
    "    with open(file_path, 'rb') as file:\n",
    "        pdf_reader = PdfReader(file)\n",
    "        total_pages = len(pdf_reader.pages)\n",
    "\n",
    "        #Now we ask for the page number\n",
    "        page_num =int(input(f\"Enter the pager number (1 - {total_pages}):\")) - 1\n",
    "\n",
    "\n",
    "        #Check page exists\n",
    "        if 0 <= page_num < total_pages:\n",
    "            text = pdf_reader.pages[page_num].extract_text() or \"No text found\"\n",
    "        else:\n",
    "            print(\"Invalid page number.\")\n",
    "            exit()\n",
    "\n",
    "except FileNotFoundError:\n",
    "    print(\"Error: File not found.\")\n",
    "    exit()\n",
    "\n",
    "\n",
    "#Time to read it. Letsss goooo\n",
    "readyReader = pyttsx3.init()\n",
    "readyReader.say(text)\n",
    "readyReader.runAndWait()\n"
   ]
  }
 ],
 "metadata": {
  "kernelspec": {
   "display_name": "Python 3",
   "language": "python",
   "name": "python3"
  },
  "language_info": {
   "codemirror_mode": {
    "name": "ipython",
    "version": 3
   },
   "file_extension": ".py",
   "mimetype": "text/x-python",
   "name": "python",
   "nbconvert_exporter": "python",
   "pygments_lexer": "ipython3",
   "version": "3.10.4"
  }
 },
 "nbformat": 4,
 "nbformat_minor": 5
}
